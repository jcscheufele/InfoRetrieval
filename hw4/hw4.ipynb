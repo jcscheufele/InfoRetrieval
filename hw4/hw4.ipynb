{
 "cells": [
  {
   "cell_type": "markdown",
   "metadata": {},
   "source": [
    "# HW4: implementing item-based CF with cosine\n",
    "First, run recommenderDemo.ipynb and be familar with the code and data.\n",
    "Second, implement item-based CF with cosine"
   ]
  },
  {
   "cell_type": "code",
   "execution_count": 325,
   "metadata": {},
   "outputs": [],
   "source": [
    "import gzip\n",
    "from collections import defaultdict\n",
    "from scipy import spatial\n",
    "import scipy.optimize\n",
    "import numpy as np\n",
    "import random"
   ]
  },
  {
   "cell_type": "markdown",
   "metadata": {},
   "source": [
    "1. load the data, and convert integer-valued fields as we go. Note that here we use the same \"Musical Instruments\" dataset. Download the date from here: https://web.cs.wpi.edu/~kmlee/cs547/amazon_reviews_us_Musical_Instruments_v1_00_small.tsv.gz\n",
    "The dataset contains 20K user-item reviews."
   ]
  },
  {
   "cell_type": "code",
   "execution_count": 326,
   "metadata": {},
   "outputs": [],
   "source": [
    "# From https://web.cs.wpi.edu/~kmlee/cs547/amazon_reviews_us_Musical_Instruments_v1_00_small.tsv.gz\n",
    "#----------------------------------------------\n",
    "# Your code starts here\n",
    "#   Please add comments or text cells in between to explain the general idea of each block of the code.\n",
    "#   Please feel free to add more cells below this cell if necessary\n",
    "path = \"/home/InfoRetrieval/hw4/data/amazon_reviews_us_Musical_Instruments_v1_00_small.tsv.gz\"\n",
    "f = gzip.open(path, 'rt', encoding=\"utf8\")"
   ]
  },
  {
   "cell_type": "markdown",
   "metadata": {},
   "source": [
    "2. now store the loaded data into a matrix -- you may use numpy array/matrix to store the untility matrix or use sparse matrix (advanced approach)"
   ]
  },
  {
   "cell_type": "code",
   "execution_count": 327,
   "metadata": {},
   "outputs": [],
   "source": [
    "#----------------------------------------------\n",
    "# Your code starts here\n",
    "#   Please add comments or text cells in between to explain the general idea of each block of the code.\n",
    "#   Please feel free to add more cells below this cell if necessary\n",
    "header = f.readline()\n",
    "header = header.strip().split('\\t')\n",
    "dataset = []\n",
    "for line in f:\n",
    "    fields = line.strip().split('\\t')\n",
    "    d = dict(zip(header, fields))\n",
    "    d['star_rating'] = int(d['star_rating'])\n",
    "    d['helpful_votes'] = int(d['helpful_votes'])\n",
    "    d['total_votes'] = int(d['total_votes'])\n",
    "    dataset.append(d)\n",
    "\n",
    "itemNames = {}\n",
    "\n",
    "usersPerItem = defaultdict()\n",
    "itemsPerUser = defaultdict()\n",
    "\n",
    "for d in dataset:\n",
    "    user,item = d['customer_id'], d['product_id']\n",
    "    usersPerItem[item] = (user)\n",
    "    itemsPerUser[user] = (item)\n",
    "    itemNames[item] = d['product_title']\n",
    "\n",
    "reviewsPerUser = defaultdict(list)\n",
    "reviewsPerItem = defaultdict(list)\n",
    "\n",
    "itemNames = {}\n",
    "\n",
    "for d in dataset:\n",
    "    user,item = d['customer_id'], d['product_id']\n",
    "    reviewsPerUser[user].append(d)\n",
    "    reviewsPerItem[item].append(d)"
   ]
  },
  {
   "cell_type": "markdown",
   "metadata": {},
   "source": [
    "3. Implement cosine function and rating prediction function by using the cosine function. If a hasn't rated any similar items before, then return ratingMean (i.e., global rating mean). Refer to predictRating() in hw4jaccard.ipynb"
   ]
  },
  {
   "cell_type": "code",
   "execution_count": 328,
   "metadata": {},
   "outputs": [],
   "source": [
    "#----------------------------------------------\n",
    "# Your code starts here\n",
    "#   Please add comments or text cells in between to explain the general idea of each block of the code.\n",
    "#   Please feel free to add more cells below this cell if necessary\n",
    "ratingMean = sum([d['star_rating'] for d in dataset]) / len(dataset)\n",
    "\n",
    "def Pad(arr1, arr2):\n",
    "    diff = len(arr2) - len(arr1)\n",
    "    if diff <0 :\n",
    "        for i in range(abs(diff)):\n",
    "            arr2 = np.append(arr2, ratingMean)\n",
    "    elif diff > 0 :\n",
    "        for i in range(abs(diff)):\n",
    "            arr1 = np.append(arr1, ratingMean)\n",
    "\n",
    "    return arr1, arr2\n",
    "\n",
    "def Cosine(u1, u2):\n",
    "    array1 = np.asarray([reviewsPerUser[u1][i]['star_rating'] for i in range(len(reviewsPerUser[u1]))])\n",
    "    array2 = np.asarray([reviewsPerUser[u2][i]['star_rating'] for i in range(len(reviewsPerUser[u2]))])\n",
    "    \n",
    "    array1, array2 = Pad(array1, array2)\n",
    "    \n",
    "    return spatial.distance.cosine(array1, array2)\n",
    "\n",
    "def predictRatingCosine(user, product):\n",
    "    ratings = []\n",
    "    similarities = []\n",
    "    for d in reviewsPerUser[user]:\n",
    "        i2 = d['product_id']\n",
    "        if i2 == product: continue\n",
    "        ratings.append(d['star_rating'])\n",
    "        similarities.append(Cosine(usersPerItem[product],usersPerItem[i2]))\n",
    "    if (sum(similarities) > 0):\n",
    "        weightedRatings = [(x*y) for x,y in zip(ratings,similarities)]\n",
    "        return sum(weightedRatings) / sum(similarities)\n",
    "    else:\n",
    "        # User hasn't rated any similar items\n",
    "        return ratingMean\n",
    "\n",
    "labels = [d['star_rating'] for d in dataset]"
   ]
  },
  {
   "cell_type": "markdown",
   "metadata": {},
   "source": [
    "4. Measure and report MSE (don't need to change the below code)"
   ]
  },
  {
   "cell_type": "code",
   "execution_count": 329,
   "metadata": {},
   "outputs": [
    {
     "name": "stdout",
     "output_type": "stream",
     "text": [
      "{'marketplace': 'US', 'customer_id': '45610553', 'review_id': 'RMDCHWD0Y5OZ9', 'product_id': 'B00HH62VB6', 'product_parent': '618218723', 'product_title': 'AGPtek® 10 Isolated Output 9V 12V 18V Guitar Pedal Board Power Supply Effect Pedals with Isolated Short Cricuit / Overcurrent Protection', 'product_category': 'Musical Instruments', 'star_rating': 3, 'helpful_votes': 0, 'total_votes': 1, 'vine': 'N', 'verified_purchase': 'N', 'review_headline': 'Three Stars', 'review_body': 'Works very good, but induces ALOT of noise.', 'review_date': '2015-08-31'}\n",
      "1.5628980882851145\n"
     ]
    }
   ],
   "source": [
    "def MSE(predictions, labels):\n",
    "    differences = [(x-y)**2 for x,y in zip(predictions,labels)]\n",
    "    return sum(differences) / len(differences)\n",
    "print(dataset[0])\n",
    "cfPredictions = [predictRatingCosine(d['customer_id'], d['product_id']) for d in dataset]\n",
    "print(MSE(cfPredictions, labels))"
   ]
  },
  {
   "cell_type": "markdown",
   "metadata": {},
   "source": [
    "(optional/bonus task: you will get additional 25 points) \n",
    "download https://web.cs.wpi.edu/~kmlee/cs547/amazon_reviews_us_Musical_Instruments_v1_00_large.tsv.gz\n",
    "this dataset contains over 900K user-item reviews. repeat the above process (i.e., meauring MSE with cosine). report the MSE and compare it with MSE of alwaysPredictMean. This optional task would require better data structure and implementation."
   ]
  },
  {
   "cell_type": "code",
   "execution_count": 320,
   "metadata": {},
   "outputs": [],
   "source": [
    "# From https://web.cs.wpi.edu/~kmlee/cs547/amazon_reviews_us_Musical_Instruments_v1_00_small.tsv.gz\n",
    "#----------------------------------------------\n",
    "# Your code starts here\n",
    "#   Please add comments or text cells in between to explain the general idea of each block of the code.\n",
    "#   Please feel free to add more cells below this cell if necessary\n",
    "path = \"/home/InfoRetrieval/hw4/data/amazon_reviews_us_Musical_Instruments_v1_00_large.tsv.gz\"\n",
    "f = gzip.open(path, 'rt', encoding=\"utf8\")"
   ]
  },
  {
   "cell_type": "code",
   "execution_count": 321,
   "metadata": {},
   "outputs": [],
   "source": [
    "#----------------------------------------------\n",
    "# Your code starts here\n",
    "#   Please add comments or text cells in between to explain the general idea of each block of the code.\n",
    "#   Please feel free to add more cells below this cell if necessary\n",
    "header = f.readline()\n",
    "header = header.strip().split('\\t')\n",
    "dataset = []\n",
    "for line in f:\n",
    "    fields = line.strip().split('\\t')\n",
    "    d = dict(zip(header, fields))\n",
    "    d['star_rating'] = int(d['star_rating'])\n",
    "    d['helpful_votes'] = int(d['helpful_votes'])\n",
    "    d['total_votes'] = int(d['total_votes'])\n",
    "    dataset.append(d)\n",
    "\n",
    "itemNames = {}\n",
    "\n",
    "usersPerItem = defaultdict()\n",
    "itemsPerUser = defaultdict()\n",
    "\n",
    "for d in dataset:\n",
    "    user,item = d['customer_id'], d['product_id']\n",
    "    usersPerItem[item] = (user)\n",
    "    itemsPerUser[user] = (item)\n",
    "    itemNames[item] = d['product_title']\n",
    "\n",
    "reviewsPerUser = defaultdict(list)\n",
    "reviewsPerItem = defaultdict(list)\n",
    "\n",
    "itemNames = {}\n",
    "\n",
    "for d in dataset:\n",
    "    user,item = d['customer_id'], d['product_id']\n",
    "    reviewsPerUser[user].append(d)\n",
    "    reviewsPerItem[item].append(d)"
   ]
  },
  {
   "cell_type": "code",
   "execution_count": 322,
   "metadata": {},
   "outputs": [],
   "source": [
    "#----------------------------------------------\n",
    "# Your code starts here\n",
    "#   Please add comments or text cells in between to explain the general idea of each block of the code.\n",
    "#   Please feel free to add more cells below this cell if necessary\n",
    "ratingMean = sum([d['star_rating'] for d in dataset]) / len(dataset)\n",
    "\n",
    "def Pad(arr1, arr2):\n",
    "    diff = len(arr2) - len(arr1)\n",
    "    if diff <0 :\n",
    "        for i in range(abs(diff)):\n",
    "            arr2 = np.append(arr2, ratingMean)\n",
    "    elif diff > 0 :\n",
    "        for i in range(abs(diff)):\n",
    "            arr1 = np.append(arr1, ratingMean)\n",
    "\n",
    "    return arr1, arr2\n",
    "\n",
    "def Cosine(u1, u2):\n",
    "    array1 = np.asarray([reviewsPerUser[u1][i]['star_rating'] for i in range(len(reviewsPerUser[u1]))])\n",
    "    array2 = np.asarray([reviewsPerUser[u2][i]['star_rating'] for i in range(len(reviewsPerUser[u2]))])\n",
    "    \n",
    "    array1, array2 = Pad(array1, array2)\n",
    "    \n",
    "    return spatial.distance.cosine(array1, array2)\n",
    "\n",
    "def predictRatingCosine(user, product):\n",
    "    ratings = []\n",
    "    similarities = []\n",
    "    for d in reviewsPerUser[user]:\n",
    "        i2 = d['product_id']\n",
    "        if i2 == product: continue\n",
    "        ratings.append(d['star_rating'])\n",
    "        similarities.append(Cosine(usersPerItem[product],usersPerItem[i2]))\n",
    "    if (sum(similarities) > 0):\n",
    "        weightedRatings = [(x*y) for x,y in zip(ratings,similarities)]\n",
    "        return sum(weightedRatings) / sum(similarities)\n",
    "    else:\n",
    "        # User hasn't rated any similar items\n",
    "        return ratingMean\n",
    "\n",
    "labels = [d['star_rating'] for d in dataset]"
   ]
  },
  {
   "cell_type": "code",
   "execution_count": 323,
   "metadata": {},
   "outputs": [
    {
     "name": "stdout",
     "output_type": "stream",
     "text": [
      "{'marketplace': 'US', 'customer_id': '45610553', 'review_id': 'RMDCHWD0Y5OZ9', 'product_id': 'B00HH62VB6', 'product_parent': '618218723', 'product_title': 'AGPtek® 10 Isolated Output 9V 12V 18V Guitar Pedal Board Power Supply Effect Pedals with Isolated Short Cricuit / Overcurrent Protection', 'product_category': 'Musical Instruments', 'star_rating': 3, 'helpful_votes': 0, 'total_votes': 1, 'vine': 'N', 'verified_purchase': 'N', 'review_headline': 'Three Stars', 'review_body': 'Works very good, but induces ALOT of noise.', 'review_date': '2015-08-31'}\n",
      "1.6310097627998033\n"
     ]
    }
   ],
   "source": [
    "def MSE(predictions, labels):\n",
    "    differences = [(x-y)**2 for x,y in zip(predictions,labels)]\n",
    "    return sum(differences) / len(differences)\n",
    "print(dataset[0])\n",
    "cfPredictions = [predictRatingCosine(d['customer_id'], d['product_id']) for d in dataset]\n",
    "print(MSE(cfPredictions, labels))"
   ]
  },
  {
   "cell_type": "markdown",
   "metadata": {},
   "source": []
  },
  {
   "cell_type": "markdown",
   "metadata": {},
   "source": [
    "*-----------------\n",
    "# Done\n",
    "\n",
    "All set! \n",
    "\n",
    "** What do you need to submit?**\n",
    "\n",
    "* **hw4.ipynb Notebook File**: Save this Jupyter notebook with all output, and find the notebook file in your folder (for example, \"filename.ipynb\"). This is the file you need to submit. \n",
    "\n",
    "** How to submit: **\n",
    "        Please submit through canvas.wpi.edu\n"
   ]
  }
 ],
 "metadata": {
  "kernelspec": {
   "display_name": "Python 3 (ipykernel)",
   "language": "python",
   "name": "python3"
  },
  "language_info": {
   "codemirror_mode": {
    "name": "ipython",
    "version": 3
   },
   "file_extension": ".py",
   "mimetype": "text/x-python",
   "name": "python",
   "nbconvert_exporter": "python",
   "pygments_lexer": "ipython3",
   "version": "3.11.2"
  }
 },
 "nbformat": 4,
 "nbformat_minor": 2
}
